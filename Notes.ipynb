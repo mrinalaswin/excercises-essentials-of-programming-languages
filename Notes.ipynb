{
 "cells": [
  {
   "cell_type": "markdown",
   "metadata": {},
   "source": [
    "# Inductive specification\n",
    "## Recursively specified data"
   ]
  },
  {
   "cell_type": "markdown",
   "metadata": {},
   "source": [
    "**Definition 1**\n",
    "\n",
    "A natural number `n` is in `S` if and only if\n",
    "1. n=0\n",
    "2. n-3 ϵ S.\n",
    "\n",
    "**Procedure**\n",
    "\n",
    "**in S** : N ⟶ Bool\n",
    "\n",
    "**Usage** : (in-S? n) = #t if `n` is in `S`, `#f` otherwise\n",
    "\n",
    "```\n",
    "(define in-S?\n",
    "    (lambda(n)\n",
    "        (if(zero? n) #t \n",
    "            (if(>= (- n 3) 0)\n",
    "                (in-S? (- n 3))\n",
    "                #f))))\n",
    "```\n"
   ]
  },
  {
   "cell_type": "markdown",
   "metadata": {},
   "source": [
    "**Definition - 2**\n",
    "\n",
    "Define the set `S` to be the smallest set contained in N and satisfying the following two properties.\n",
    "1. 0 ϵ S. and\n",
    "2. if n ϵ S, then n + 3 ϵ S.\n",
    "\n",
    "$$\n",
    "\\overline{0 ϵ S}\n",
    "$$\n",
    "$$\n",
    "\\frac{n ϵ S} {(n + 3) ϵ S}\n",
    "$$\n",
    "\n",
    "**Note**\n",
    "- Short-hand notation of the above version of definition.\n",
    "- Each entry is called a `rule of inference` or just `rule`.\n",
    "- Horizontal line is read as `if-then`.\n",
    "- The part above the line is called the `hypothesis` or the `antecedent`\n",
    "- The part below the line is called the `conclusion` or the `consequent`\n",
    "- When two or more hypothesis listed, they are connected by an implicit `and`.\n",
    "- A rule with no hypothesis is called an `axiom`."
   ]
  },
  {
   "cell_type": "markdown",
   "metadata": {},
   "source": [
    "**Definition - 3 (list of integers, top-down)**\n",
    "\n",
    "A scheme list is a list of integers if and only if either\n",
    "1. it is the empty list, or\n",
    "2. it is a pair whose \n"
   ]
  }
 ],
 "metadata": {
  "language_info": {
   "name": "python"
  },
  "orig_nbformat": 4
 },
 "nbformat": 4,
 "nbformat_minor": 2
}
