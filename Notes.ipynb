{
 "cells": [
  {
   "cell_type": "markdown",
   "metadata": {},
   "source": [
    "# Inductive specification\n",
    "## Recursively specified data"
   ]
  },
  {
   "cell_type": "markdown",
   "metadata": {},
   "source": [
    "**Definition 1**\n",
    "\n",
    "A natural number *n* is in *S* if and only if\n",
    "1. *n* = 0\n",
    "2. *n* - 3 ϵ *S*.\n",
    "\n",
    "**Procedure**\n",
    "\n",
    "**in S** : N ⟶ Bool\n",
    "\n",
    "**Usage** : (in-S? n) = `#t` if *n* is in *S*, `#f` otherwise\n",
    "\n",
    "```\n",
    "(define in-S?\n",
    "    (lambda(n)\n",
    "        (if(zero? n) #t \n",
    "            (if(>= (- n 3) 0)\n",
    "                (in-S? (- n 3))\n",
    "                #f))))\n",
    "```\n"
   ]
  },
  {
   "cell_type": "markdown",
   "metadata": {},
   "source": [
    "**Definition - 2**\n",
    "\n",
    "Define the set `S` to be the smallest set contained in N and satisfying the following two properties.\n",
    "1. 0 ϵ S. and\n",
    "2. if n ϵ S, then n + 3 ϵ S.\n",
    "\n",
    "$$\n",
    "\\overline{0~ϵ~S}\n",
    "$$\n",
    "$$\n",
    "\\frac{n~ϵ~S} {(n~+~3)~ϵ~S}\n",
    "$$\n",
    "\n",
    "**Note**\n",
    "- Short-hand notation of the above version of definition.\n",
    "- Each entry is called a `rule of inference` or just `rule`.\n",
    "- Horizontal line is read as `if-then`.\n",
    "- The part above the line is called the `hypothesis` or the `antecedent`\n",
    "- The part below the line is called the `conclusion` or the `consequent`\n",
    "- When two or more hypothesis listed, they are connected by an implicit `and`.\n",
    "- A rule with no hypothesis is called an `axiom`."
   ]
  },
  {
   "cell_type": "markdown",
   "metadata": {},
   "source": [
    "**Definition - 3 (list of integers, top-down)**\n",
    "\n",
    "A scheme list is a list of integers if and only if either\n",
    "1. it is the empty list, or\n",
    "2. it is a pair whose `car` is an integer and whose `cdr` is a list of integers.\n",
    "\n",
    "> `car` operation extracts the first pointer.\n",
    "> `cdr` operation extracts the second pointer.\n",
    "\n",
    "**Definition - 4 (list of integers, bottom-up)**\n",
    "\n",
    "The set of `List-of-Int` is the smallest set of Scheme lists satisfying the following two properties.\n",
    "\n",
    "1. () ϵ `List-of-Int`\n",
    "2. if n ϵ `Int` and `l` ϵ `List-of-Int`, then `(n . l)` ϵ `List-of-Int`\n",
    "\n",
    "**Notes**\n",
    "- We use the infix `.` to denote the result of the `cons` operation in Scheme.\n",
    "- `(n . 1)` denotes the Scheme pair whose `car` is `n`and whose `cdr` is `l`.\n",
    "\n",
    "**Definition - 5 (list of integers, rules of inference)**\n",
    "\n",
    "$$\n",
    "()~ϵ~List-of-Int\n",
    "$$\n",
    "$$\n",
    "\\frac{n~ϵ~Int ~~~ l~ϵ~List-of-Int}{(n~.~l)~ϵ~List-of-Int}\n",
    "$$"
   ]
  },
  {
   "cell_type": "markdown",
   "metadata": {},
   "source": [
    "**Excercise 1**\n",
    "\n",
    "Write inductive definitions of the following sets. Write each definition in all three styles (top-down, bottom-up and rules of inference). Using your rules, show the derivation of some sample elements of each set.\n",
    "1. {3n + 2 | n ϵ N}\n",
    "\n",
    "**Answer:**\n",
    "\n",
    "*top-down :*\n",
    "\n",
    "*n* ϵ *S* if\n",
    "\n",
    "1. *n* = 2, or \n",
    "2. *n* - 3 ϵ *S*\n",
    "\n",
    "*bottom-up :*\n",
    "\n",
    "*S* is the smallest set that satisfying the following properties:\n",
    "\n",
    "1. 2 ϵ *S* and\n",
    "2. if *n* ϵ S, then *n* + 3 ϵ S \n",
    "\n",
    "*rules of inference:*\n",
    "\n",
    "$$\n",
    "2~ϵ~S\n",
    "$$\n",
    "$$\n",
    "\\frac{n~ϵ~S}{n~+~3~ϵ~S}\n",
    "$$\n",
    "\n"
   ]
  }
 ],
 "metadata": {
  "interpreter": {
   "hash": "916dbcbb3f70747c44a77c7bcd40155683ae19c65e1c03b4aa3499c5328201f1"
  },
  "kernelspec": {
   "display_name": "Python 3.8.10 64-bit",
   "language": "python",
   "name": "python3"
  },
  "language_info": {
   "name": "python",
   "version": "3.8.10"
  },
  "orig_nbformat": 4
 },
 "nbformat": 4,
 "nbformat_minor": 2
}
